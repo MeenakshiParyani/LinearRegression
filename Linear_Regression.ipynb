{
 "cells": [
  {
   "cell_type": "code",
   "execution_count": 1,
   "metadata": {
    "collapsed": true
   },
   "outputs": [],
   "source": [
    "#Imports\n",
    "import pandas as pd\n",
    "import numpy as np\n",
    "%matplotlib inline\n",
    "import matplotlib.pyplot as plt\n",
    "import math\n",
    "import sys\n",
    "from mpl_toolkits.mplot3d import Axes3D"
   ]
  },
  {
   "cell_type": "code",
   "execution_count": 2,
   "metadata": {},
   "outputs": [
    {
     "name": "stdout",
     "output_type": "stream",
     "text": [
      "(97, 2)\n"
     ]
    },
    {
     "data": {
      "image/png": "[encoded data removed]",
      "text/plain": [
       "<matplotlib.figure.Figure at 0x107b69410>"
      ]
     },
     "metadata": {},
     "output_type": "display_data"
    }
   ],
   "source": [
    "# Reading and plotting data\n",
    "data = pd.read_csv('ex1data1.csv', header=None)\n",
    "print data.shape\n",
    "X = data[0]\n",
    "Y = data[1]\n",
    "\n",
    "plt.scatter(X, Y, c='#ef5423', label='Scatter Plot')\n",
    "plt.ylabel('Profit in 10,000 $s');\n",
    "plt.xlabel('Population in 10,000s');"
   ]
  },
  {
   "cell_type": "code",
   "execution_count": 3,
   "metadata": {},
   "outputs": [
    {
     "name": "stdout",
     "output_type": "stream",
     "text": [
      "Root mean square error is 2.99368713529\n"
     ]
    }
   ],
   "source": [
    "# Q.1 Linear Regression Gradient Decent One variable without matrix\n",
    "\n",
    "def get_rmse(x, y, weight, bias):\n",
    "    m = len(x)\n",
    "    total_error = 0.0\n",
    "    for i in range(m):\n",
    "        total_error += (y[i] - (weight*x[i] + bias))**2\n",
    "    return math.sqrt(total_error / m)\n",
    "\n",
    "def update_weights(x, y, weight, bias, learning_rate):\n",
    "    weight_deriv = 0\n",
    "    bias_deriv = 0\n",
    "    m = len(x)\n",
    "\n",
    "    for i in range(m):\n",
    "        # Calculate partial derivatives\n",
    "        # -2x(y - (mx + b))\n",
    "        weight_deriv += -2*x[i] * (y[i] - (weight*x[i] + bias))\n",
    "\n",
    "        # -2(y - (mx + b))\n",
    "        bias_deriv += -2*(y[i] - (weight*x[i] + bias))\n",
    "\n",
    "    # We subtract because the derivatives point in direction of steepest ascent\n",
    "    weight -= (weight_deriv / m) * learning_rate\n",
    "    bias -= (bias_deriv / m) * learning_rate\n",
    "\n",
    "    return weight, bias\n",
    "\n",
    "def fit(x, y, weight, bias, learning_rate, iters):\n",
    "    cost_history = []\n",
    "    weights = []\n",
    "    biases = []\n",
    "    old_cost = sys.maxsize\n",
    "    new_cost = sys.maxsize\n",
    "    while(True):\n",
    "        weight,bias = update_weights(x, y, weight, bias, learning_rate)\n",
    "        weights.append(weight)\n",
    "        biases.append(bias)\n",
    "        #Calculate cost for auditing purposes\n",
    "        old_cost = new_cost\n",
    "        new_cost = get_rmse(x, y, weight, bias)\n",
    "        if(old_cost - new_cost < 0.00001):\n",
    "            #print(\"breaking\" + str(old_cost) + str(new_cost))\n",
    "            break;\n",
    "        cost_history.append(new_cost)\n",
    "\n",
    "        # Log cost\n",
    "        #print \"cost: \"+str(new_cost)\n",
    "\n",
    "    return weights, biases, new_cost\n",
    "\n",
    "# def plot_predictions(X, beta0, beta1, cost_history):\n",
    "#     fig = plt.figure(figsize=(10, 6))\n",
    "#     ax = fig.add_subplot(111, projection='3d')\n",
    "\n",
    "#     ax.plot_surface(beta0, beta1, cost_history, rstride=1, cstride=1, color='b', alpha=0.1)\n",
    "#     ax.contour(beta0, beta1, cost_history, 20, color='b', alpha=0.5, offset=0, stride=30)\n",
    "\n",
    "\n",
    "#     ax.set_xlabel('Intercept')\n",
    "#     ax.set_ylabel('Slope')\n",
    "#     ax.set_zlabel('Cost')\n",
    "#     ax.view_init(elev=30., azim=30)\n",
    "#     #ax.plot([theta[0]], [theta[1]], [cost[-1]] , markerfacecolor='r', markeredgecolor='r', marker='o', markersize=7);\n",
    "#     #ax.plot([history[0][0]], [history[0][1]], [cost[0]] , markerfacecolor='r', markeredgecolor='r', marker='o', markersize=7);\n",
    "\n",
    "\n",
    "#     #ax.plot([t[0] for t in history2], [t[1] for t in history2], cost2 , markerfacecolor='r', markeredgecolor='r', marker='.', markersize=2);\n",
    "#     ax.plot([b[0] for b in beta0], [b[1] for b in beta1], cost_history[0] , alpha=0.5, markerfacecolor='r', markeredgecolor='r', marker='.', markersize=2);\n",
    "#     ax.plot([b[0] for b in beta0], [b[1] for b in beta1], 0 , alpha=0.5, markerfacecolor='r', markeredgecolor='r', marker='.', markersize=2);\n",
    "\n",
    "b1, b0, cost = fit(X.values, Y.values, 0, 0, 0.01, 10000)\n",
    "print \"Root mean square error is \"+ str(cost)\n",
    "# plot_predictions(X.values, b0, b1, cost)"
   ]
  },
  {
   "cell_type": "code",
   "execution_count": null,
   "metadata": {
    "collapsed": true
   },
   "outputs": [],
   "source": []
  },
  {
   "cell_type": "code",
   "execution_count": 4,
   "metadata": {},
   "outputs": [
    {
     "ename": "ValueError",
     "evalue": "shapes (97,) and (2,) not aligned: 97 (dim 0) != 2 (dim 0)",
     "output_type": "error",
     "traceback": [
      "\u001b[0;31m---------------------------------------------------------------------------\u001b[0m",
      "\u001b[0;31mValueError\u001b[0m                                Traceback (most recent call last)",
      "\u001b[0;32m<ipython-input-4-310d0b11453c>\u001b[0m in \u001b[0;36m<module>\u001b[0;34m()\u001b[0m\n\u001b[1;32m     19\u001b[0m     \u001b[0;32mreturn\u001b[0m \u001b[0mcosts\u001b[0m\u001b[0;34m,\u001b[0m \u001b[0mcoefficients\u001b[0m\u001b[0;34m\u001b[0m\u001b[0m\n\u001b[1;32m     20\u001b[0m \u001b[0;34m\u001b[0m\u001b[0m\n\u001b[0;32m---> 21\u001b[0;31m \u001b[0mcosts\u001b[0m\u001b[0;34m,\u001b[0m \u001b[0mcoefficients\u001b[0m \u001b[0;34m=\u001b[0m \u001b[0mgradient_decent\u001b[0m\u001b[0;34m(\u001b[0m\u001b[0mX\u001b[0m\u001b[0;34m,\u001b[0m \u001b[0mY\u001b[0m\u001b[0;34m,\u001b[0m \u001b[0mbeta\u001b[0m\u001b[0;34m)\u001b[0m\u001b[0;34m\u001b[0m\u001b[0m\n\u001b[0m",
      "\u001b[0;32m<ipython-input-4-310d0b11453c>\u001b[0m in \u001b[0;36mgradient_decent\u001b[0;34m(X, Y, beta)\u001b[0m\n\u001b[1;32m     11\u001b[0m     \u001b[0mcoefficients\u001b[0m \u001b[0;34m=\u001b[0m \u001b[0;34m[\u001b[0m\u001b[0;34m]\u001b[0m\u001b[0;34m\u001b[0m\u001b[0m\n\u001b[1;32m     12\u001b[0m     \u001b[0;32mfor\u001b[0m \u001b[0mi\u001b[0m \u001b[0;32min\u001b[0m \u001b[0mrange\u001b[0m\u001b[0;34m(\u001b[0m\u001b[0mitrs\u001b[0m\u001b[0;34m)\u001b[0m\u001b[0;34m:\u001b[0m\u001b[0;34m\u001b[0m\u001b[0m\n\u001b[0;32m---> 13\u001b[0;31m         \u001b[0mpred\u001b[0m \u001b[0;34m=\u001b[0m \u001b[0mnp\u001b[0m\u001b[0;34m.\u001b[0m\u001b[0mdot\u001b[0m\u001b[0;34m(\u001b[0m\u001b[0mX\u001b[0m\u001b[0;34m,\u001b[0m \u001b[0mbeta\u001b[0m\u001b[0;34m)\u001b[0m\u001b[0;34m\u001b[0m\u001b[0m\n\u001b[0m\u001b[1;32m     14\u001b[0m         \u001b[0merr\u001b[0m \u001b[0;34m=\u001b[0m \u001b[0mpred\u001b[0m \u001b[0;34m-\u001b[0m \u001b[0mY\u001b[0m\u001b[0;34m\u001b[0m\u001b[0m\n\u001b[1;32m     15\u001b[0m         \u001b[0mcost\u001b[0m \u001b[0;34m=\u001b[0m \u001b[0;36m1\u001b[0m\u001b[0;34m/\u001b[0m\u001b[0;34m(\u001b[0m \u001b[0;34m(\u001b[0m\u001b[0;36m2\u001b[0m \u001b[0;34m*\u001b[0m \u001b[0msize\u001b[0m\u001b[0;34m)\u001b[0m \u001b[0;34m*\u001b[0m \u001b[0;34m(\u001b[0m\u001b[0mnp\u001b[0m\u001b[0;34m.\u001b[0m\u001b[0mdot\u001b[0m\u001b[0;34m(\u001b[0m\u001b[0merr\u001b[0m\u001b[0;34m.\u001b[0m\u001b[0mT\u001b[0m\u001b[0;34m,\u001b[0m \u001b[0merr\u001b[0m\u001b[0;34m)\u001b[0m\u001b[0;34m)\u001b[0m\u001b[0;34m)\u001b[0m\u001b[0;34m\u001b[0m\u001b[0m\n",
      "\u001b[0;31mValueError\u001b[0m: shapes (97,) and (2,) not aligned: 97 (dim 0) != 2 (dim 0)"
     ]
    }
   ],
   "source": [
    "# Q.2-1 - Linear Regression with Multiple Varibles using Gradient Descent\n",
    "points = Y.size # Number of predictions in the data\n",
    "alpha = 0.01 # Learning rate\n",
    "itrs = 1700 # Number of iterations\n",
    "np.random.seed(123) # Fixing the seed value to avoid diffent data\n",
    "beta = np.random.rand(2) # For now keeping 2\n",
    "\n",
    "## Grdient Decent Function\n",
    "def gradient_decent(X, Y, beta):\n",
    "    costs = []\n",
    "    coefficients = []\n",
    "    for i in range(itrs):\n",
    "        pred = np.dot(X, beta)\n",
    "        err = pred - Y\n",
    "        cost = 1/( (2 * size) * (np.dot(err.T, err)))\n",
    "        beta = beta - ( alpha * (1/size) * np.dot(X.T, error))\n",
    "        costs.append(cost)\n",
    "        coefficients.append(beta)\n",
    "    return costs, coefficients\n",
    "\n",
    "costs, coefficients = gradient_decent(X, Y, beta)"
   ]
  },
  {
   "cell_type": "code",
   "execution_count": null,
   "metadata": {
    "collapsed": true
   },
   "outputs": [],
   "source": []
  }
 ],
 "metadata": {
  "kernelspec": {
   "display_name": "Python 2",
   "language": "python",
   "name": "python2"
  },
  "language_info": {
   "codemirror_mode": {
    "name": "ipython",
    "version": 2
   },
   "file_extension": ".py",
   "mimetype": "text/x-python",
   "name": "python",
   "nbconvert_exporter": "python",
   "pygments_lexer": "ipython2",
   "version": "2.7.13"
  }
 },
 "nbformat": 4,
 "nbformat_minor": 2
}
